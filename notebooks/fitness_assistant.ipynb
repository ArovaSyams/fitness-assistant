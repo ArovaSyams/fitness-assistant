{
 "cells": [
  {
   "cell_type": "code",
   "execution_count": 11,
   "id": "7c3d33e1-2bb1-4ecc-8b2b-532c319e382e",
   "metadata": {},
   "outputs": [
    {
     "name": "stderr",
     "output_type": "stream",
     "text": [
      "C:\\Users\\wifqo\\Documents\\PROJECTS\\fitness-assistant\\notebooks\\minsearch.py:10: UserWarning: Now minsearch is installable via pip: 'pip install minsearch'. Remove the downloaded file and re-install it with pip.\n",
      "  warnings.warn(\n"
     ]
    }
   ],
   "source": [
    "import pandas as pd\n",
    "import minsearch"
   ]
  },
  {
   "cell_type": "code",
   "execution_count": 2,
   "id": "5bd05436-0d5e-4886-b51b-0ba8575637cc",
   "metadata": {},
   "outputs": [],
   "source": [
    "df = pd.read_csv(\"../data.csv\")"
   ]
  },
  {
   "cell_type": "code",
   "execution_count": 3,
   "id": "3f7288dd-2974-4d10-995e-4cd3b5324bd4",
   "metadata": {},
   "outputs": [
    {
     "data": {
      "text/html": [
       "<div>\n",
       "<style scoped>\n",
       "    .dataframe tbody tr th:only-of-type {\n",
       "        vertical-align: middle;\n",
       "    }\n",
       "\n",
       "    .dataframe tbody tr th {\n",
       "        vertical-align: top;\n",
       "    }\n",
       "\n",
       "    .dataframe thead th {\n",
       "        text-align: right;\n",
       "    }\n",
       "</style>\n",
       "<table border=\"1\" class=\"dataframe\">\n",
       "  <thead>\n",
       "    <tr style=\"text-align: right;\">\n",
       "      <th></th>\n",
       "      <th>id</th>\n",
       "      <th>exercise_name</th>\n",
       "      <th>type_of_activity</th>\n",
       "      <th>type_of_equipment</th>\n",
       "      <th>body_part</th>\n",
       "      <th>type</th>\n",
       "      <th>muscle_groups_activated</th>\n",
       "      <th>instructions</th>\n",
       "    </tr>\n",
       "  </thead>\n",
       "  <tbody>\n",
       "    <tr>\n",
       "      <th>0</th>\n",
       "      <td>0</td>\n",
       "      <td>Push-Ups</td>\n",
       "      <td>Strength</td>\n",
       "      <td>Bodyweight</td>\n",
       "      <td>Upper Body</td>\n",
       "      <td>Push</td>\n",
       "      <td>Pectorals, Triceps, Deltoids</td>\n",
       "      <td>Start in a high plank position with your hands...</td>\n",
       "    </tr>\n",
       "    <tr>\n",
       "      <th>1</th>\n",
       "      <td>1</td>\n",
       "      <td>Squats</td>\n",
       "      <td>Strength</td>\n",
       "      <td>Bodyweight</td>\n",
       "      <td>Lower Body</td>\n",
       "      <td>Push</td>\n",
       "      <td>Quadriceps, Glutes, Hamstrings</td>\n",
       "      <td>Stand with feet shoulder-width apart. Lower yo...</td>\n",
       "    </tr>\n",
       "    <tr>\n",
       "      <th>2</th>\n",
       "      <td>2</td>\n",
       "      <td>Plank</td>\n",
       "      <td>Strength/Mobility</td>\n",
       "      <td>Bodyweight</td>\n",
       "      <td>Core</td>\n",
       "      <td>Hold</td>\n",
       "      <td>Rectus Abdominis, Transverse Abdominis</td>\n",
       "      <td>Start in a forearm plank position with your el...</td>\n",
       "    </tr>\n",
       "    <tr>\n",
       "      <th>3</th>\n",
       "      <td>3</td>\n",
       "      <td>Deadlift</td>\n",
       "      <td>Strength</td>\n",
       "      <td>Barbell</td>\n",
       "      <td>Lower Body</td>\n",
       "      <td>Pull</td>\n",
       "      <td>Glutes, Hamstrings, Lower Back</td>\n",
       "      <td>Stand with feet hip-width apart, barbell in fr...</td>\n",
       "    </tr>\n",
       "    <tr>\n",
       "      <th>4</th>\n",
       "      <td>4</td>\n",
       "      <td>Bicep Curls</td>\n",
       "      <td>Strength</td>\n",
       "      <td>Dumbbells</td>\n",
       "      <td>Upper Body</td>\n",
       "      <td>Pull</td>\n",
       "      <td>Biceps, Forearms</td>\n",
       "      <td>Stand with a dumbbell in each hand, arms fully...</td>\n",
       "    </tr>\n",
       "    <tr>\n",
       "      <th>...</th>\n",
       "      <td>...</td>\n",
       "      <td>...</td>\n",
       "      <td>...</td>\n",
       "      <td>...</td>\n",
       "      <td>...</td>\n",
       "      <td>...</td>\n",
       "      <td>...</td>\n",
       "      <td>...</td>\n",
       "    </tr>\n",
       "    <tr>\n",
       "      <th>202</th>\n",
       "      <td>202</td>\n",
       "      <td>Incline Dumbbell Row</td>\n",
       "      <td>Strength</td>\n",
       "      <td>Dumbbells</td>\n",
       "      <td>Upper Body</td>\n",
       "      <td>Pull</td>\n",
       "      <td>Latissimus Dorsi, Biceps</td>\n",
       "      <td>Lie face down on an incline bench with a dumbb...</td>\n",
       "    </tr>\n",
       "    <tr>\n",
       "      <th>203</th>\n",
       "      <td>203</td>\n",
       "      <td>Machine Lat Pulldown</td>\n",
       "      <td>Strength</td>\n",
       "      <td>Machine</td>\n",
       "      <td>Upper Body</td>\n",
       "      <td>Pull</td>\n",
       "      <td>Latissimus Dorsi, Biceps</td>\n",
       "      <td>Sit at a lat pulldown machine with a wide grip...</td>\n",
       "    </tr>\n",
       "    <tr>\n",
       "      <th>204</th>\n",
       "      <td>204</td>\n",
       "      <td>One-Arm Cable Row</td>\n",
       "      <td>Strength</td>\n",
       "      <td>Cable Machine</td>\n",
       "      <td>Upper Body</td>\n",
       "      <td>Pull</td>\n",
       "      <td>Latissimus Dorsi, Biceps</td>\n",
       "      <td>Stand facing a cable machine with the handle a...</td>\n",
       "    </tr>\n",
       "    <tr>\n",
       "      <th>205</th>\n",
       "      <td>205</td>\n",
       "      <td>Face Pull</td>\n",
       "      <td>Strength</td>\n",
       "      <td>Cable Machine</td>\n",
       "      <td>Upper Body</td>\n",
       "      <td>Pull</td>\n",
       "      <td>Rear Deltoids, Trapezius, Rhomboids</td>\n",
       "      <td>Attach a rope handle to a high cable pulley. P...</td>\n",
       "    </tr>\n",
       "    <tr>\n",
       "      <th>206</th>\n",
       "      <td>206</td>\n",
       "      <td>Dumbbell Bench Press</td>\n",
       "      <td>Strength</td>\n",
       "      <td>Dumbbells</td>\n",
       "      <td>Upper Body</td>\n",
       "      <td>Push</td>\n",
       "      <td>Pectorals, Triceps, Deltoids</td>\n",
       "      <td>Lie on a bench with a dumbbell in each hand. P...</td>\n",
       "    </tr>\n",
       "  </tbody>\n",
       "</table>\n",
       "<p>207 rows × 8 columns</p>\n",
       "</div>"
      ],
      "text/plain": [
       "      id         exercise_name   type_of_activity type_of_equipment  \\\n",
       "0      0              Push-Ups           Strength        Bodyweight   \n",
       "1      1                Squats           Strength        Bodyweight   \n",
       "2      2                 Plank  Strength/Mobility        Bodyweight   \n",
       "3      3              Deadlift           Strength           Barbell   \n",
       "4      4           Bicep Curls           Strength         Dumbbells   \n",
       "..   ...                   ...                ...               ...   \n",
       "202  202  Incline Dumbbell Row           Strength         Dumbbells   \n",
       "203  203  Machine Lat Pulldown           Strength           Machine   \n",
       "204  204     One-Arm Cable Row           Strength     Cable Machine   \n",
       "205  205             Face Pull           Strength     Cable Machine   \n",
       "206  206  Dumbbell Bench Press           Strength         Dumbbells   \n",
       "\n",
       "      body_part  type                 muscle_groups_activated  \\\n",
       "0    Upper Body  Push            Pectorals, Triceps, Deltoids   \n",
       "1    Lower Body  Push          Quadriceps, Glutes, Hamstrings   \n",
       "2          Core  Hold  Rectus Abdominis, Transverse Abdominis   \n",
       "3    Lower Body  Pull          Glutes, Hamstrings, Lower Back   \n",
       "4    Upper Body  Pull                        Biceps, Forearms   \n",
       "..          ...   ...                                     ...   \n",
       "202  Upper Body  Pull                Latissimus Dorsi, Biceps   \n",
       "203  Upper Body  Pull                Latissimus Dorsi, Biceps   \n",
       "204  Upper Body  Pull                Latissimus Dorsi, Biceps   \n",
       "205  Upper Body  Pull     Rear Deltoids, Trapezius, Rhomboids   \n",
       "206  Upper Body  Push            Pectorals, Triceps, Deltoids   \n",
       "\n",
       "                                          instructions  \n",
       "0    Start in a high plank position with your hands...  \n",
       "1    Stand with feet shoulder-width apart. Lower yo...  \n",
       "2    Start in a forearm plank position with your el...  \n",
       "3    Stand with feet hip-width apart, barbell in fr...  \n",
       "4    Stand with a dumbbell in each hand, arms fully...  \n",
       "..                                                 ...  \n",
       "202  Lie face down on an incline bench with a dumbb...  \n",
       "203  Sit at a lat pulldown machine with a wide grip...  \n",
       "204  Stand facing a cable machine with the handle a...  \n",
       "205  Attach a rope handle to a high cable pulley. P...  \n",
       "206  Lie on a bench with a dumbbell in each hand. P...  \n",
       "\n",
       "[207 rows x 8 columns]"
      ]
     },
     "execution_count": 3,
     "metadata": {},
     "output_type": "execute_result"
    }
   ],
   "source": [
    "df"
   ]
  },
  {
   "cell_type": "code",
   "execution_count": 12,
   "id": "9d8785af-32a3-4331-a53c-25dbcfee76e9",
   "metadata": {},
   "outputs": [
    {
     "data": {
      "text/plain": [
       "Index(['id', 'exercise_name', 'type_of_activity', 'type_of_equipment',\n",
       "       'body_part', 'type', 'muscle_groups_activated', 'instructions'],\n",
       "      dtype='object')"
      ]
     },
     "execution_count": 12,
     "metadata": {},
     "output_type": "execute_result"
    }
   ],
   "source": [
    "df.columns"
   ]
  },
  {
   "cell_type": "code",
   "execution_count": 13,
   "id": "8c79dd00-1c90-4ff4-9df1-0e4c7c81340f",
   "metadata": {},
   "outputs": [],
   "source": [
    "index = minsearch.Index(\n",
    "    text_fields = ['exercise_name', 'type_of_activity', 'type_of_equipment',\n",
    "       'body_part', 'type', 'muscle_groups_activated', 'instructions'],\n",
    "    keyword_fields = []\n",
    ")"
   ]
  },
  {
   "cell_type": "code",
   "execution_count": 15,
   "id": "261caf31-04df-4762-9ff2-78c23df9866d",
   "metadata": {},
   "outputs": [],
   "source": [
    "documents = df.to_dict(orient='records')"
   ]
  },
  {
   "cell_type": "code",
   "execution_count": 18,
   "id": "0b723f9f-d135-44ab-baf6-5f226c59f1a4",
   "metadata": {},
   "outputs": [
    {
     "data": {
      "text/plain": [
       "<minsearch.Index at 0x2d2b3d9b4d0>"
      ]
     },
     "execution_count": 18,
     "metadata": {},
     "output_type": "execute_result"
    }
   ],
   "source": [
    "index.fit(documents)"
   ]
  },
  {
   "cell_type": "code",
   "execution_count": 19,
   "id": "7467c1dd-df30-4269-a36a-b1e73880f83d",
   "metadata": {},
   "outputs": [],
   "source": [
    "query = 'give me exercises for hamstrings' "
   ]
  },
  {
   "cell_type": "code",
   "execution_count": 20,
   "id": "f309a41f-6ccb-44bd-a6b3-8049fa570568",
   "metadata": {},
   "outputs": [
    {
     "data": {
      "text/plain": [
       "[{'id': 118,\n",
       "  'exercise_name': 'Leg Curl',\n",
       "  'type_of_activity': 'Strength',\n",
       "  'type_of_equipment': 'Machine',\n",
       "  'body_part': 'Lower Body',\n",
       "  'type': 'Pull',\n",
       "  'muscle_groups_activated': 'Hamstrings',\n",
       "  'instructions': 'Lie face down on a leg curl machine and curl the pad towards your glutes, then return to the starting position.'},\n",
       " {'id': 8,\n",
       "  'exercise_name': 'Hamstring Stretch',\n",
       "  'type_of_activity': 'Mobility',\n",
       "  'type_of_equipment': 'Bodyweight',\n",
       "  'body_part': 'Lower Body',\n",
       "  'type': 'Stretch',\n",
       "  'muscle_groups_activated': 'Hamstrings',\n",
       "  'instructions': 'Stand upright and place one heel on a bench or step. Lean forward slightly to feel a stretch in the hamstring of the elevated leg.'},\n",
       " {'id': 95,\n",
       "  'exercise_name': 'Machine Leg Curl',\n",
       "  'type_of_activity': 'Strength',\n",
       "  'type_of_equipment': 'Machine',\n",
       "  'body_part': 'Lower Body',\n",
       "  'type': 'Pull',\n",
       "  'muscle_groups_activated': 'Hamstrings',\n",
       "  'instructions': 'Sit on a leg curl machine and curl the pad down towards your glutes, then return to the starting position.'},\n",
       " {'id': 109,\n",
       "  'exercise_name': 'Seated Leg Curl',\n",
       "  'type_of_activity': 'Strength',\n",
       "  'type_of_equipment': 'Machine',\n",
       "  'body_part': 'Lower Body',\n",
       "  'type': 'Pull',\n",
       "  'muscle_groups_activated': 'Hamstrings',\n",
       "  'instructions': 'Sit on a leg curl machine and curl the pad down towards your glutes, then return to the starting position.'},\n",
       " {'id': 164,\n",
       "  'exercise_name': 'Prone Leg Curl',\n",
       "  'type_of_activity': 'Strength',\n",
       "  'type_of_equipment': 'Machine',\n",
       "  'body_part': 'Lower Body',\n",
       "  'type': 'Pull',\n",
       "  'muscle_groups_activated': 'Hamstrings',\n",
       "  'instructions': 'Lie face down on a leg curl machine and curl the pad towards your glutes, then return to the starting position.'},\n",
       " {'id': 140,\n",
       "  'exercise_name': 'Lying Leg Curl',\n",
       "  'type_of_activity': 'Strength',\n",
       "  'type_of_equipment': 'Machine',\n",
       "  'body_part': 'Lower Body',\n",
       "  'type': 'Pull',\n",
       "  'muscle_groups_activated': 'Hamstrings',\n",
       "  'instructions': 'Lie face down on a leg curl machine and curl the pad towards your glutes, then return to the starting position.'},\n",
       " {'id': 155,\n",
       "  'exercise_name': 'Glute Kickback',\n",
       "  'type_of_activity': 'Strength',\n",
       "  'type_of_equipment': 'Bodyweight',\n",
       "  'body_part': 'Lower Body',\n",
       "  'type': 'Push',\n",
       "  'muscle_groups_activated': 'Glutes, Hamstrings',\n",
       "  'instructions': 'Start on all fours and kick one leg straight back, squeezing your glutes at the top of the movement.'},\n",
       " {'id': 128,\n",
       "  'exercise_name': 'Cable Kickbacks',\n",
       "  'type_of_activity': 'Strength',\n",
       "  'type_of_equipment': 'Cable Machine',\n",
       "  'body_part': 'Lower Body',\n",
       "  'type': 'Push',\n",
       "  'muscle_groups_activated': 'Glutes, Hamstrings',\n",
       "  'instructions': 'Attach an ankle strap to a low cable pulley. Kick your leg back while keeping your knee slightly bent, then return to the starting position.'},\n",
       " {'id': 20,\n",
       "  'exercise_name': 'Glute Bridge',\n",
       "  'type_of_activity': 'Strength',\n",
       "  'type_of_equipment': 'Bodyweight',\n",
       "  'body_part': 'Lower Body',\n",
       "  'type': 'Push',\n",
       "  'muscle_groups_activated': 'Glutes, Hamstrings',\n",
       "  'instructions': 'Lie on your back with knees bent and feet flat on the floor. Lift your hips until your body forms a straight line from shoulders to knees.'},\n",
       " {'id': 93,\n",
       "  'exercise_name': 'Single-Leg Glute Bridge',\n",
       "  'type_of_activity': 'Strength',\n",
       "  'type_of_equipment': 'Bodyweight',\n",
       "  'body_part': 'Lower Body',\n",
       "  'type': 'Push',\n",
       "  'muscle_groups_activated': 'Glutes, Hamstrings',\n",
       "  'instructions': 'Lie on your back with one foot on the ground and the other leg extended. Lift your hips towards the ceiling.'}]"
      ]
     },
     "execution_count": 20,
     "metadata": {},
     "output_type": "execute_result"
    }
   ],
   "source": [
    "index.search(query)"
   ]
  },
  {
   "cell_type": "code",
   "execution_count": 23,
   "id": "aedde8a5-724c-4708-b34d-d60bf608ea25",
   "metadata": {},
   "outputs": [],
   "source": [
    "import os\n",
    "from dotenv import load_dotenv\n",
    "import openai\n",
    "from openai import OpenAI\n",
    "\n",
    "load_dotenv()\n",
    "openai.api_key = os.getenv(\"OPENAI_API_KEY\")\n",
    "\n",
    "client = OpenAI()"
   ]
  },
  {
   "cell_type": "code",
   "execution_count": 24,
   "id": "bca93f72-1d9e-4a4c-811f-aa9b12a8435c",
   "metadata": {},
   "outputs": [],
   "source": [
    "response = client.chat.completions.create(\n",
    "    model='gpt-4o-mini',\n",
    "    messages=[{\"role\": \"user\", \"content\": query}]\n",
    ")"
   ]
  },
  {
   "cell_type": "code",
   "execution_count": 25,
   "id": "3d412321-7a84-4a8c-bf6c-2470f4d38288",
   "metadata": {},
   "outputs": [
    {
     "name": "stdout",
     "output_type": "stream",
     "text": [
      "Sure! Here are several effective exercises to strengthen and stretch your hamstrings. Always warm up before performing these exercises, and consider consulting a fitness professional if you're new to working out to ensure proper form and avoid injury.\n",
      "\n",
      "### Strengthening Exercises:\n",
      "\n",
      "1. **Deadlifts:**\n",
      "   - **Conventional Deadlift:** Stand with feet hip-width apart, barbell in front. Bend at your hips and knees to grip the barbell, keeping your back straight. Lift by extending your hips and knees simultaneously.\n",
      "   - **Romanian Deadlift:** Hold a barbell or dumbbells in front of your thighs. With a slight bend in your knees, hinge at your hips to lower the weights down your legs while keeping your back straight. Return to standing.\n",
      "\n",
      "2. **Hamstring Curls:**\n",
      "   - **Machine Hamstring Curl:** Adjust the machine seat and leg pad to fit. Curl your legs up against resistance and slowly return to the starting position.\n",
      "   - **Stability Ball Hamstring Curl:** Lie on your back with your feet on a stability ball. Lift your hips and roll the ball towards you by bending your knees, then roll it back out.\n",
      "\n",
      "3. **Glute Bridges:**\n",
      "   - Lie on your back with knees bent and feet flat on the floor. Push through your heels to lift your hips towards the ceiling, squeezing your glutes at the top, then lower back down.\n",
      "\n",
      "4. **Good Mornings:**\n",
      "   - Stand with feet shoulder-width apart and a barbell across your upper back. With a slight bend in your knees, hinge at your hips to lower your torso towards the floor while keeping your back straight.\n",
      "\n",
      "5. **Lunges:**\n",
      "   - **Forward Lunges:** Step forward with one leg, lowering your hips until both knees are bent at about 90 degrees. Push back to the starting position and switch legs.\n",
      "   - **Reverse Lunges:** Step back into a lunge instead of forward, focusing on controlling the movement.\n",
      "\n",
      "### Stretching Exercises:\n",
      "\n",
      "1. **Standing Hamstring Stretch:**\n",
      "   - Stand and place one foot on a low surface (like a bench). Keep your leg straight and hinge at your hips to lean forward slightly, feeling the stretch in the back of your thigh.\n",
      "\n",
      "2. **Seated Forward Bend:**\n",
      "   - Sit with your legs extended in front of you. Hinge at the hips and reach towards your toes, keeping your spine elongated to stretch your hamstrings.\n",
      "\n",
      "3. **Supine Hamstring Stretch:**\n",
      "   - Lie flat on your back. Raise one leg toward the ceiling, keeping it straight, and gently pull it toward you with a strap or your hands while keeping your other leg flat on the ground.\n",
      "\n",
      "4. **Figure Four Stretch:**\n",
      "   - Lie on your back, cross one ankle over the opposite knee, and pull your thigh towards you. This will stretch not just the hamstrings but the glutes as well.\n",
      "\n",
      "5. **Pigeon Pose:**\n",
      "   - From a plank position, bring one knee forward and place it behind your wrist while extending the opposite leg back. This stretch is excellent for opening up the hips and stretching the hamstrings.\n",
      "\n",
      "### Tips:\n",
      "- Start with light weights or body weight for strength exercises to build proper form.\n",
      "- Hold stretches for at least 15-30 seconds and repeat 2-3 times.\n",
      "- Incorporate these exercises into your routine 2-3 times a week for optimal results.\n",
      "\n",
      "As always, listen to your body and only perform exercises that feel comfortable for you!\n"
     ]
    }
   ],
   "source": [
    "print(response.choices[0].message.content)"
   ]
  },
  {
   "cell_type": "code",
   "execution_count": 28,
   "id": "e97a75de-8128-4e04-a62f-bb2931f12749",
   "metadata": {},
   "outputs": [],
   "source": [
    "def search(query):\n",
    "    boost = {}\n",
    "\n",
    "    results = index.search(\n",
    "        query=query,\n",
    "        filter_dict={},\n",
    "        boost_dict=boost,\n",
    "        num_results=10\n",
    "    )\n",
    "    return results"
   ]
  },
  {
   "cell_type": "code",
   "execution_count": 29,
   "id": "be7112b5-1e41-4d1e-b55c-86a1173c10cf",
   "metadata": {},
   "outputs": [],
   "source": [
    "prompt_template = \"\"\"\n",
    "        You emulate a user of our fitness assistant application.\n",
    "    Formulate 5 questions this user might ask based on a provided exercise.\n",
    "    Make the questions specific to this exercise.\n",
    "    The record should contain the answer to the questions, and the questions should\n",
    "    be complete and not too short. Use as fewer words as possible from the record. \n",
    "\n",
    "        QUESTION: {question}\n",
    "\n",
    "        CONTEXT: {context}\n",
    "\"\"\".strip()\n",
    "\n",
    "entry_template = \"\"\"\n",
    "    exercise_name: {exercise_name}\n",
    "    type_of_activity: {type_of_activity}\n",
    "    type_of_equipment: {type_of_equipment}\n",
    "    body_part: {body_part}\n",
    "    type: {type}\n",
    "    muscle_groups_activated: {muscle_groups_activated}\n",
    "    instructions: {instructions}\n",
    "\"\"\".strip()\n",
    "\n",
    "\n",
    "def build_prompt(query, search_results):\n",
    "    \n",
    "    context = \"\"\n",
    "\n",
    "    for doc in search_results:\n",
    "        context = context + entry_template.format(**doc) + \"\\n\\n\"\n",
    "\n",
    "    prompt = prompt_template.format(question=query, context=context).strip()\n",
    "\n",
    "    return prompt\n",
    "    \n",
    "def llm(prompt):\n",
    "    response = client.chat.completions.create(\n",
    "        model='gpt-4o',\n",
    "        messages=[{\"role\": \"user\", \"content\": prompt}]\n",
    "    )\n",
    "\n",
    "    return response.choices[0].message.content\n",
    "def rag(query):\n",
    "    search_results = search(query)\n",
    "    prompt = build_prompt(query, search_results)\n",
    "    answer = llm(prompt)\n",
    "    return answer"
   ]
  },
  {
   "cell_type": "code",
   "execution_count": 30,
   "id": "9d1b79ec-88a4-435d-bcab-ca004ba1e72c",
   "metadata": {},
   "outputs": [
    {
     "data": {
      "text/plain": [
       "'1. How do I perform a Lying Leg Curl exercise on a machine?\\n   - Lie face down on a leg curl machine and curl the pad towards your glutes, then return to the starting position.\\n\\n2. What type of activity is the Prone Leg Curl classified as?\\n   - Prone Leg Curl is classified as a Strength activity.\\n\\n3. Can you tell me which muscle is primarily activated during a Machine Leg Curl?\\n   - The primary muscle activated is the hamstrings.\\n\\n4. Which equipment is needed for the Seated Leg Curl exercise?\\n   - You need a machine for the Seated Leg Curl exercise.\\n\\n5. Is the Leg Curl exercise a push or a pull type of movement?\\n   - The Leg Curl is a pull type of movement.'"
      ]
     },
     "execution_count": 30,
     "metadata": {},
     "output_type": "execute_result"
    }
   ],
   "source": [
    "rag(query)"
   ]
  },
  {
   "cell_type": "code",
   "execution_count": null,
   "id": "4148553c-4b83-4ab6-bd19-c12bc1423533",
   "metadata": {},
   "outputs": [],
   "source": []
  }
 ],
 "metadata": {
  "kernelspec": {
   "display_name": "Python 3 (ipykernel)",
   "language": "python",
   "name": "python3"
  },
  "language_info": {
   "codemirror_mode": {
    "name": "ipython",
    "version": 3
   },
   "file_extension": ".py",
   "mimetype": "text/x-python",
   "name": "python",
   "nbconvert_exporter": "python",
   "pygments_lexer": "ipython3",
   "version": "3.12.7"
  }
 },
 "nbformat": 4,
 "nbformat_minor": 5
}
