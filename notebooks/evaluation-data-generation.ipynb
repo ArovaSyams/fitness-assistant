{
 "cells": [
  {
   "cell_type": "code",
   "execution_count": 12,
   "id": "7c3d33e1-2bb1-4ecc-8b2b-532c319e382e",
   "metadata": {},
   "outputs": [],
   "source": [
    "import pandas as pd\n",
    "import minsearch\n",
    "import json"
   ]
  },
  {
   "cell_type": "code",
   "execution_count": 4,
   "id": "240f7d36-608f-4a5c-a000-5d3d4634e51e",
   "metadata": {},
   "outputs": [],
   "source": [
    "import os\n",
    "from dotenv import load_dotenv\n",
    "import openai\n",
    "from openai import OpenAI\n",
    "\n",
    "load_dotenv()\n",
    "openai.api_key = os.getenv(\"OPENAI_API_KEY\")\n",
    "\n",
    "client = OpenAI()"
   ]
  },
  {
   "cell_type": "code",
   "execution_count": 5,
   "id": "5bd05436-0d5e-4886-b51b-0ba8575637cc",
   "metadata": {},
   "outputs": [],
   "source": [
    "df = pd.read_csv(\"../data.csv\")\n",
    "documents = df.to_dict(orient='records')"
   ]
  },
  {
   "cell_type": "code",
   "execution_count": 6,
   "id": "6e674d51-6704-42c2-9051-fdf73a70412e",
   "metadata": {},
   "outputs": [],
   "source": [
    "prompt_template = \"\"\"\n",
    "    You emulate a user of our fitness assistant application.\n",
    "    Formulate 5 questions this user might ask based on a provided exercise.\n",
    "    Make the questions specific to this exercise.\n",
    "    The record should contain the answer to the questions, and the questions should\n",
    "    be complete and not too short. Use as fewer words as possible from the record. \n",
    "    \n",
    "    The record:\n",
    "    \n",
    "    exercise_name: {exercise_name}\n",
    "    type_of_activity: {type_of_activity}\n",
    "    type_of_equipment: {type_of_equipment}\n",
    "    body_part: {body_part}\n",
    "    type: {type}\n",
    "    muscle_groups_activated: {muscle_groups_activated}\n",
    "    instructions: {instructions}\n",
    "    \n",
    "    Provide the output in parsable JSON without using code blocks:\n",
    "    \n",
    "    {{\"questions\": [\"question1\", \"question2\", ..., \"question5\"]}}\n",
    "\"\"\".strip()"
   ]
  },
  {
   "cell_type": "code",
   "execution_count": 9,
   "id": "67ff797b-0447-4673-a06b-62fcb64a897f",
   "metadata": {},
   "outputs": [],
   "source": [
    "prompt = prompt_template.format(**documents[0])"
   ]
  },
  {
   "cell_type": "code",
   "execution_count": 13,
   "id": "bc705866-0768-4e8b-be1a-486823c2d392",
   "metadata": {},
   "outputs": [],
   "source": [
    "def llm(prompt):\n",
    "    response = client.chat.completions.create(\n",
    "        model='gpt-4o-mini',\n",
    "        messages=[{\"role\": \"user\", \"content\": prompt}]\n",
    "    )\n",
    "\n",
    "    return response.choices[0].message.content"
   ]
  },
  {
   "cell_type": "code",
   "execution_count": 14,
   "id": "d53aec9c-2993-4b1e-8c8a-4dbc20bb80e7",
   "metadata": {},
   "outputs": [],
   "source": [
    "questions = llm(prompt)"
   ]
  },
  {
   "cell_type": "code",
   "execution_count": 16,
   "id": "e19b7bcc-bc26-49b6-90a6-5adda0425ba2",
   "metadata": {},
   "outputs": [
    {
     "data": {
      "text/plain": [
       "{'questions': ['What is the starting position for performing push-ups?',\n",
       "  'Which muscle groups are primarily activated during push-ups?',\n",
       "  'Can push-ups be done without any equipment?',\n",
       "  'What is the correct movement sequence for a push-up?',\n",
       "  'Which body part is primarily targeted while doing push-ups?']}"
      ]
     },
     "execution_count": 16,
     "metadata": {},
     "output_type": "execute_result"
    }
   ],
   "source": [
    "json.loads(questions)"
   ]
  },
  {
   "cell_type": "code",
   "execution_count": 19,
   "id": "8c79dd00-1c90-4ff4-9df1-0e4c7c81340f",
   "metadata": {},
   "outputs": [],
   "source": [
    "index = minsearch.Index(\n",
    "    text_fields = ['exercise_name', 'type_of_activity', 'type_of_equipment',\n",
    "       'body_part', 'type', 'muscle_groups_activated', 'instructions'],\n",
    "    keyword_fields = ['id']\n",
    ")"
   ]
  },
  {
   "cell_type": "code",
   "execution_count": 20,
   "id": "261caf31-04df-4762-9ff2-78c23df9866d",
   "metadata": {},
   "outputs": [],
   "source": []
  },
  {
   "cell_type": "code",
   "execution_count": 21,
   "id": "0b723f9f-d135-44ab-baf6-5f226c59f1a4",
   "metadata": {},
   "outputs": [
    {
     "data": {
      "text/plain": [
       "<minsearch.Index at 0x25a1f85b7a0>"
      ]
     },
     "execution_count": 21,
     "metadata": {},
     "output_type": "execute_result"
    }
   ],
   "source": [
    "index.fit(documents)"
   ]
  },
  {
   "cell_type": "code",
   "execution_count": 23,
   "id": "7467c1dd-df30-4269-a36a-b1e73880f83d",
   "metadata": {},
   "outputs": [],
   "source": [
    "query = 'give me exercises for hamstrings' "
   ]
  },
  {
   "cell_type": "markdown",
   "id": "607a8af5-a44a-4f7c-87fc-3c2de20ca786",
   "metadata": {},
   "source": [
    "## RAG Flow"
   ]
  },
  {
   "cell_type": "code",
   "execution_count": 25,
   "id": "e97a75de-8128-4e04-a62f-bb2931f12749",
   "metadata": {},
   "outputs": [],
   "source": [
    "def search(query):\n",
    "    boost = {}\n",
    "\n",
    "    results = index.search(\n",
    "        query=query,\n",
    "        filter_dict={},\n",
    "        boost_dict=boost,\n",
    "        num_results=10\n",
    "    )\n",
    "    return results"
   ]
  },
  {
   "cell_type": "code",
   "execution_count": 26,
   "id": "be7112b5-1e41-4d1e-b55c-86a1173c10cf",
   "metadata": {},
   "outputs": [],
   "source": [
    "prompt_template = \"\"\"\n",
    "    You're a coach teaching assistant. Answer the QUESTION based on the CONTEXT from the FAQ database.\n",
    "    Use only the facts from the CONTEXT when answering the QUESTION.\n",
    "\n",
    "    QUESTION: {question}\n",
    "\n",
    "    CONTEXT: {context}\n",
    "\"\"\".strip()\n",
    "\n",
    "entry_template = \"\"\"\n",
    "    exercise_name: {exercise_name}\n",
    "    type_of_activity: {type_of_activity}\n",
    "    type_of_equipment: {type_of_equipment}\n",
    "    body_part: {body_part}\n",
    "    type: {type}\n",
    "    muscle_groups_activated: {muscle_groups_activated}\n",
    "    instructions: {instructions}\n",
    "\"\"\".strip()\n",
    "\n",
    "\n",
    "def build_prompt(query, search_results):\n",
    "    \n",
    "    context = \"\"\n",
    "\n",
    "    for doc in search_results:\n",
    "        context = context + entry_template.format(**doc) + \"\\n\\n\"\n",
    "\n",
    "    prompt = prompt_template.format(question=query, context=context).strip()\n",
    "\n",
    "    return prompt"
   ]
  },
  {
   "cell_type": "code",
   "execution_count": 27,
   "id": "6427bc1f-8f2d-445f-a049-1896c6cd8873",
   "metadata": {},
   "outputs": [],
   "source": [
    "def llm(prompt):\n",
    "    response = client.chat.completions.create(\n",
    "        model='gpt-4o',\n",
    "        messages=[{\"role\": \"user\", \"content\": prompt}]\n",
    "    )\n",
    "\n",
    "    return response.choices[0].message.content"
   ]
  },
  {
   "cell_type": "code",
   "execution_count": 28,
   "id": "643db3a7-cb7b-4f0b-894e-842447e87f05",
   "metadata": {},
   "outputs": [],
   "source": [
    "def rag(query):\n",
    "    search_results = search(query)\n",
    "    prompt = build_prompt(query, search_results)\n",
    "    answer = llm(prompt)\n",
    "    return answer"
   ]
  },
  {
   "cell_type": "code",
   "execution_count": 29,
   "id": "9d1b79ec-88a4-435d-bcab-ca004ba1e72c",
   "metadata": {},
   "outputs": [
    {
     "name": "stdout",
     "output_type": "stream",
     "text": [
      "Here are some exercises that target the hamstrings:\n",
      "\n",
      "1. **Leg Curl**:\n",
      "   - **Activity Type**: Strength\n",
      "   - **Equipment**: Machine\n",
      "   - **Instructions**: Lie face down on a leg curl machine and curl the pad towards your glutes, then return to the starting position.\n",
      "\n",
      "2. **Hamstring Stretch**:\n",
      "   - **Activity Type**: Mobility\n",
      "   - **Equipment**: Bodyweight\n",
      "   - **Instructions**: Stand upright and place one heel on a bench or step. Lean forward slightly to feel a stretch in the hamstring of the elevated leg.\n",
      "\n",
      "3. **Machine Leg Curl**:\n",
      "   - **Activity Type**: Strength\n",
      "   - **Equipment**: Machine\n",
      "   - **Instructions**: Sit on a leg curl machine and curl the pad down towards your glutes, then return to the starting position.\n",
      "\n",
      "4. **Seated Leg Curl**:\n",
      "   - **Activity Type**: Strength\n",
      "   - **Equipment**: Machine\n",
      "   - **Instructions**: Sit on a leg curl machine and curl the pad down towards your glutes, then return to the starting position.\n",
      "\n",
      "5. **Prone Leg Curl**:\n",
      "   - **Activity Type**: Strength\n",
      "   - **Equipment**: Machine\n",
      "   - **Instructions**: Lie face down on a leg curl machine and curl the pad towards your glutes, then return to the starting position.\n",
      "\n",
      "6. **Lying Leg Curl**:\n",
      "   - **Activity Type**: Strength\n",
      "   - **Equipment**: Machine\n",
      "   - **Instructions**: Lie face down on a leg curl machine and curl the pad towards your glutes, then return to the starting position.\n",
      "\n",
      "7. **Glute Kickback**:\n",
      "   - **Activity Type**: Strength\n",
      "   - **Equipment**: Bodyweight\n",
      "   - **Instructions**: Start on all fours and kick one leg straight back, squeezing your glutes at the top of the movement.\n",
      "\n",
      "8. **Cable Kickbacks**:\n",
      "   - **Activity Type**: Strength\n",
      "   - **Equipment**: Cable Machine\n",
      "   - **Instructions**: Attach an ankle strap to a low cable pulley. Kick your leg back while keeping your knee slightly bent, then return to the starting position.\n",
      "\n",
      "9. **Glute Bridge**:\n",
      "   - **Activity Type**: Strength\n",
      "   - **Equipment**: Bodyweight\n",
      "   - **Instructions**: Lie on your back with knees bent and feet flat on the floor. Lift your hips until your body forms a straight line from shoulders to knees.\n",
      "\n",
      "10. **Single-Leg Glute Bridge**:\n",
      "    - **Activity Type**: Strength\n",
      "    - **Equipment**: Bodyweight\n",
      "    - **Instructions**: Lie on your back with one foot on the ground and the other leg extended. Lift your hips towards the ceiling.\n"
     ]
    }
   ],
   "source": [
    "answer = rag(query)\n",
    "print(answer)"
   ]
  },
  {
   "cell_type": "code",
   "execution_count": null,
   "id": "4148553c-4b83-4ab6-bd19-c12bc1423533",
   "metadata": {},
   "outputs": [],
   "source": []
  }
 ],
 "metadata": {
  "kernelspec": {
   "display_name": "Python 3 (ipykernel)",
   "language": "python",
   "name": "python3"
  },
  "language_info": {
   "codemirror_mode": {
    "name": "ipython",
    "version": 3
   },
   "file_extension": ".py",
   "mimetype": "text/x-python",
   "name": "python",
   "nbconvert_exporter": "python",
   "pygments_lexer": "ipython3",
   "version": "3.12.7"
  }
 },
 "nbformat": 4,
 "nbformat_minor": 5
}
